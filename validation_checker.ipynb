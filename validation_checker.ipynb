{
 "cells": [
  {
   "cell_type": "code",
   "execution_count": 3,
   "metadata": {},
   "outputs": [],
   "source": [
    "import json\n",
    "import jsonschema\n",
    "\n",
    "from biothings_schema import Schema"
   ]
  },
  {
   "cell_type": "code",
   "execution_count": 4,
   "metadata": {},
   "outputs": [
    {
     "name": "stdout",
     "output_type": "stream",
     "text": [
      "dict_keys(['@context', '@graph'])\n"
     ]
    }
   ],
   "source": [
    "with open('CrossWalk.json','r') as infile:\n",
    "    tmpjson = json.load(infile)\n",
    "\n",
    "print(tmpjson.keys())"
   ]
  },
  {
   "cell_type": "code",
   "execution_count": 5,
   "metadata": {},
   "outputs": [],
   "source": [
    "sc = Schema(tmpjson, base_schema=[\"schema.org\"])"
   ]
  },
  {
   "cell_type": "code",
   "execution_count": 7,
   "metadata": {},
   "outputs": [],
   "source": [
    "test1 = {\"name\": \"poot\"}\n",
    "test2 = {\"name\": \"poot\", \"identifier\": \"p007\"}\n",
    "test3 = {\"name\": \"poot\", \"identifier\": \"p007\", \"url\": \"https:poot.pl\"}\n",
    "test4 = {\"identifier\": \"p007\", \"url\": \"https:poot.pl\"}\n",
    "test5 = {\"name\": \"poot\", \"url\": \"https:poot.pl\"}\n",
    "test6 = {\"name\": \"poot\", \"identifier\": \"p007\", \"url\": \"https:poot.pl\", \"description\": \"Poot\"}\n",
    "testlist = [test1,test2,test3,test4,test5,test6]"
   ]
  },
  {
   "cell_type": "code",
   "execution_count": 8,
   "metadata": {},
   "outputs": [
    {
     "name": "stdout",
     "output_type": "stream",
     "text": [
      "{'name': 'poot'}  failed\n",
      "{'name': 'poot', 'identifier': 'p007'}  failed\n",
      "{'name': 'poot', 'identifier': 'p007', 'url': 'https:poot.pl'}  failed\n",
      "{'identifier': 'p007', 'url': 'https:poot.pl'}  failed\n",
      "{'name': 'poot', 'url': 'https:poot.pl'}  failed\n",
      "{'name': 'poot', 'identifier': 'p007', 'url': 'https:poot.pl', 'description': 'Poot'}  failed\n"
     ]
    }
   ],
   "source": [
    "for test in testlist:\n",
    "    try:\n",
    "        result = jsonschema.validate(test, tmpjson['@graph'][0]['$validation'])\n",
    "        print(\"no issue with \",test)\n",
    "    except:\n",
    "        print(test,\" failed\")"
   ]
  },
  {
   "cell_type": "code",
   "execution_count": null,
   "metadata": {},
   "outputs": [],
   "source": []
  }
 ],
 "metadata": {
  "kernelspec": {
   "display_name": "Python 3 (ipykernel)",
   "language": "python",
   "name": "python3"
  },
  "language_info": {
   "codemirror_mode": {
    "name": "ipython",
    "version": 3
   },
   "file_extension": ".py",
   "mimetype": "text/x-python",
   "name": "python",
   "nbconvert_exporter": "python",
   "pygments_lexer": "ipython3",
   "version": "3.8.5"
  }
 },
 "nbformat": 4,
 "nbformat_minor": 4
}
