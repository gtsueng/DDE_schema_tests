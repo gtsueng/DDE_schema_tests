{
 "cells": [
  {
   "cell_type": "code",
   "execution_count": 1,
   "metadata": {},
   "outputs": [],
   "source": [
    "import json\n",
    "import jsonschema"
   ]
  },
  {
   "cell_type": "code",
   "execution_count": 2,
   "metadata": {},
   "outputs": [
    {
     "name": "stdout",
     "output_type": "stream",
     "text": [
      "dict_keys(['@context', '@graph'])\n"
     ]
    }
   ],
   "source": [
    "with open('cardinalitytest.jsonld','r') as infile:\n",
    "    cardinalityjson = json.load(infile)\n",
    "\n",
    "print(cardinalityjson.keys())"
   ]
  },
  {
   "cell_type": "code",
   "execution_count": 3,
   "metadata": {},
   "outputs": [
    {
     "name": "stdout",
     "output_type": "stream",
     "text": [
      "[{'@id': 'test:MarginalityTest', '@type': 'rdfs:Class', 'rdfs:comment': 'testing inclusion of Marginality and Cardinality in validation', 'rdfs:label': 'MarginalityTest', 'rdfs:subClassOf': {'@id': 'schema:Thing'}, '$validation': {'$schema': 'http://json-schema.org/draft-07/schema#', 'type': 'object', 'properties': {'url': {'description': 'URL of the item.', 'type': 'string', 'format': 'uri'}, 'name': {'description': 'The name of the item.', 'type': 'string', 'owl:cardinality': 'one', 'marginality': 'required'}, 'identifier': {'description': 'The identifier property represents any kind of identifier for any kind of <a class=\"localLink\" href=\"http://schema.org/Thing\">Thing</a>, such as ISBNs, GTIN codes, UUIDs etc. Schema.org provides dedicated properties for representing many of these, either as textual strings or as URL (URI) links. See <a href=\"/docs/datamodel.html#identifierBg\">background notes</a> for more details.', 'type': 'string'}}, 'required': ['name'], 'recommended': ['identifier'], 'optional': ['url']}}]\n"
     ]
    }
   ],
   "source": [
    "print(cardinalityjson['@graph'])"
   ]
  },
  {
   "cell_type": "code",
   "execution_count": 14,
   "metadata": {},
   "outputs": [],
   "source": [
    "test1 = {\"name\": \"poot\"}\n",
    "test2 = {\"name\": \"poot\", \"identifier\": \"p007\"}\n",
    "test3 = {\"name\": \"poot\", \"identifier\": \"p007\", \"url\": \"https:poot.pl\"}\n",
    "test4 = {\"identifier\": \"p007\", \"url\": \"https:poot.pl\"}\n",
    "test5 = {\"name\": \"poot\", \"url\": \"https:poot.pl\"}\n",
    "test6 = {\"name\": \"poot\", \"identifier\": \"p007\", \"url\": \"https:poot.pl\", \"description\": \"Poot\"}\n",
    "testlist = [test1,test2,test3,test4,test5,test6]"
   ]
  },
  {
   "cell_type": "code",
   "execution_count": 16,
   "metadata": {},
   "outputs": [
    {
     "name": "stdout",
     "output_type": "stream",
     "text": [
      "no issue with  {'name': 'poot'}\n",
      "no issue with  {'name': 'poot', 'identifier': 'p007'}\n",
      "no issue with  {'name': 'poot', 'identifier': 'p007', 'url': 'https:poot.pl'}\n",
      "{'identifier': 'p007', 'url': 'https:poot.pl'}  failed\n",
      "no issue with  {'name': 'poot', 'url': 'https:poot.pl'}\n",
      "no issue with  {'name': 'poot', 'identifier': 'p007', 'url': 'https:poot.pl', 'description': 'Poot'}\n"
     ]
    }
   ],
   "source": [
    "for test in testlist:\n",
    "    try:\n",
    "        result = jsonschema.validate(test, cardinalityjson['@graph'][0]['$validation'])\n",
    "        print(\"no issue with \",test)\n",
    "    except:\n",
    "        print(test,\" failed\")"
   ]
  },
  {
   "cell_type": "code",
   "execution_count": null,
   "metadata": {},
   "outputs": [],
   "source": []
  }
 ],
 "metadata": {
  "kernelspec": {
   "display_name": "Python 3",
   "language": "python",
   "name": "python3"
  },
  "language_info": {
   "codemirror_mode": {
    "name": "ipython",
    "version": 3
   },
   "file_extension": ".py",
   "mimetype": "text/x-python",
   "name": "python",
   "nbconvert_exporter": "python",
   "pygments_lexer": "ipython3",
   "version": "3.8.5"
  }
 },
 "nbformat": 4,
 "nbformat_minor": 4
}
